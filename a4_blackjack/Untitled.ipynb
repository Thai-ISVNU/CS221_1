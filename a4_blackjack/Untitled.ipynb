{
 "cells": [
  {
   "cell_type": "code",
   "execution_count": 1,
   "metadata": {
    "collapsed": true
   },
   "outputs": [],
   "source": [
    "%load_ext autoreload\n",
    "%autoreload 2\n",
    "import submission\n",
    "from submission import *"
   ]
  },
  {
   "cell_type": "code",
   "execution_count": 46,
   "metadata": {},
   "outputs": [
    {
     "name": "stdout",
     "output_type": "stream",
     "text": [
      "ValueIteration: 7 iterations\n"
     ]
    },
    {
     "data": {
      "text/plain": [
       "0.10909090909090909"
      ]
     },
     "execution_count": 46,
     "metadata": {},
     "output_type": "execute_result"
    }
   ],
   "source": [
    "mdp = submission.peekingMDP()\n",
    "vi = submission.ValueIteration()\n",
    "vi.solve(mdp)\n",
    "f = len([a for a in list(vi.pi.values()) if a == 'Peek']) / float(len(list(vi.pi.values())))\n",
    "f"
   ]
  },
  {
   "cell_type": "code",
   "execution_count": 47,
   "metadata": {},
   "outputs": [
    {
     "data": {
      "text/plain": [
       "{(11, None, (1, 1, 1, 0)): 'Peek',\n",
       " (0, None, None): 'Take',\n",
       " (7, 2, (0, 0, 1, 1)): 'Take',\n",
       " (3, None, (1, 0, 1, 1)): 'Take',\n",
       " (16, 1, (0, 1, 0, 1)): 'Take',\n",
       " (15, 1, (0, 1, 1, 0)): 'Take',\n",
       " (11, 2, (1, 1, 1, 0)): 'Quit',\n",
       " (15, 2, (0, 1, 1, 0)): 'Quit',\n",
       " (14, None, None): 'Take',\n",
       " (18, None, None): 'Take',\n",
       " (14, 2, (1, 0, 1, 0)): 'Quit',\n",
       " (3, 2, (1, 0, 1, 1)): 'Take',\n",
       " (3, None, None): 'Take',\n",
       " (23, None, None): 'Take',\n",
       " (4, 3, (0, 1, 1, 1)): 'Take',\n",
       " (11, 1, (1, 1, 1, 0)): 'Take',\n",
       " (27, None, None): 'Take',\n",
       " (14, None, (1, 0, 1, 0)): 'Peek',\n",
       " (12, None, None): 'Take',\n",
       " (16, None, (0, 1, 0, 1)): 'Peek',\n",
       " (16, None, None): 'Take',\n",
       " (0, 3, (1, 1, 1, 1)): 'Take',\n",
       " (12, 3, (1, 1, 0, 1)): 'Quit',\n",
       " (3, 3, (1, 0, 1, 1)): 'Take',\n",
       " (4, None, (0, 1, 1, 1)): 'Take',\n",
       " (15, 3, (1, 0, 0, 1)): 'Quit',\n",
       " (16, 3, (0, 1, 0, 1)): 'Quit',\n",
       " (12, 0, (1, 1, 0, 1)): 'Take',\n",
       " (11, 0, (1, 1, 1, 0)): 'Take',\n",
       " (30, None, None): 'Take',\n",
       " (12, None, (1, 1, 0, 1)): 'Peek',\n",
       " (15, None, None): 'Take',\n",
       " (19, 3, (0, 0, 0, 1)): 'Quit',\n",
       " (15, None, (0, 1, 1, 0)): 'Peek',\n",
       " (19, None, None): 'Take',\n",
       " (3, 0, (1, 0, 1, 1)): 'Take',\n",
       " (7, None, (0, 0, 1, 1)): 'Take',\n",
       " (18, 2, (0, 0, 1, 0)): 'Quit',\n",
       " (4, None, None): 'Take',\n",
       " (14, 0, (1, 0, 1, 0)): 'Take',\n",
       " (4, 2, (0, 1, 1, 1)): 'Take',\n",
       " (15, 0, (1, 0, 0, 1)): 'Take',\n",
       " (0, 1, (1, 1, 1, 1)): 'Take',\n",
       " (15, None, (1, 0, 0, 1)): 'Peek',\n",
       " (0, None, (1, 1, 1, 1)): 'Take',\n",
       " (0, 0, (1, 1, 1, 1)): 'Take',\n",
       " (12, 1, (1, 1, 0, 1)): 'Take',\n",
       " (7, 3, (0, 0, 1, 1)): 'Take',\n",
       " (18, None, (0, 0, 1, 0)): 'Quit',\n",
       " (26, None, None): 'Take',\n",
       " (7, None, None): 'Take',\n",
       " (4, 1, (0, 1, 1, 1)): 'Take',\n",
       " (11, None, None): 'Take',\n",
       " (19, None, (0, 0, 0, 1)): 'Quit',\n",
       " (0, 2, (1, 1, 1, 1)): 'Take'}"
      ]
     },
     "execution_count": 47,
     "metadata": {},
     "output_type": "execute_result"
    }
   ],
   "source": [
    "vi.pi"
   ]
  },
  {
   "cell_type": "code",
   "execution_count": 9,
   "metadata": {},
   "outputs": [
    {
     "name": "stdout",
     "output_type": "stream",
     "text": [
      "366898\n",
      "0.1597224\n",
      "ValueIteration: 5 iterations\n"
     ]
    },
    {
     "data": {
      "text/plain": [
       "0.8888888888888888"
      ]
     },
     "execution_count": 9,
     "metadata": {},
     "output_type": "execute_result"
    }
   ],
   "source": [
    "simulate_QL_over_MDP(smallMDP, identityFeatureExtractor)"
   ]
  },
  {
   "cell_type": "code",
   "execution_count": 15,
   "metadata": {},
   "outputs": [
    {
     "name": "stdout",
     "output_type": "stream",
     "text": [
      "117186\n",
      "0\n",
      "ValueIteration: 15 iterations\n"
     ]
    },
    {
     "data": {
      "text/plain": [
       "0.6721311475409836"
      ]
     },
     "execution_count": 15,
     "metadata": {},
     "output_type": "execute_result"
    }
   ],
   "source": [
    "simulate_QL_over_MDP(largeMDP, identityFeatureExtractor)"
   ]
  },
  {
   "cell_type": "code",
   "execution_count": 17,
   "metadata": {},
   "outputs": [
    {
     "name": "stdout",
     "output_type": "stream",
     "text": [
      "122245\n",
      "0\n",
      "ValueIteration: 5 iterations\n"
     ]
    },
    {
     "data": {
      "text/plain": [
       "0.7777777777777778"
      ]
     },
     "execution_count": 17,
     "metadata": {},
     "output_type": "execute_result"
    }
   ],
   "source": [
    "simulate_QL_over_MDP(smallMDP, blackjackFeatureExtractor)"
   ]
  },
  {
   "cell_type": "code",
   "execution_count": 13,
   "metadata": {},
   "outputs": [
    {
     "name": "stdout",
     "output_type": "stream",
     "text": [
      "630620\n",
      "0\n",
      "ValueIteration: 15 iterations\n"
     ]
    },
    {
     "data": {
      "text/plain": [
       "0.7839708561020037"
      ]
     },
     "execution_count": 13,
     "metadata": {},
     "output_type": "execute_result"
    }
   ],
   "source": [
    "simulate_QL_over_MDP(largeMDP, blackjackFeatureExtractor)"
   ]
  },
  {
   "cell_type": "code",
   "execution_count": 12,
   "metadata": {},
   "outputs": [
    {
     "name": "stdout",
     "output_type": "stream",
     "text": [
      "ValueIteration: 5 iterations\n",
      "Expected reward fixed rl: 6.533333333333333\n",
      "Expected reward ql: 12.0\n"
     ]
    }
   ],
   "source": [
    "compare_changed_MDP(originalMDP, newThresholdMDP, blackjackFeatureExtractor)"
   ]
  }
 ],
 "metadata": {
  "kernelspec": {
   "display_name": "Python 3",
   "language": "python",
   "name": "python3"
  },
  "language_info": {
   "codemirror_mode": {
    "name": "ipython",
    "version": 3
   },
   "file_extension": ".py",
   "mimetype": "text/x-python",
   "name": "python",
   "nbconvert_exporter": "python",
   "pygments_lexer": "ipython3",
   "version": "3.6.8"
  }
 },
 "nbformat": 4,
 "nbformat_minor": 2
}
