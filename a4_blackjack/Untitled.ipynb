{
 "cells": [
  {
   "cell_type": "code",
   "execution_count": 1,
   "metadata": {},
   "outputs": [],
   "source": [
    "%load_ext autoreload\n",
    "%autoreload 2\n",
    "import submission\n",
    "from submission import *"
   ]
  },
  {
   "cell_type": "code",
   "execution_count": 75,
   "metadata": {},
   "outputs": [
    {
     "name": "stdout",
     "output_type": "stream",
     "text": [
      "ValueIteration: 3 iterations\n"
     ]
    },
    {
     "data": {
      "text/plain": [
       "0.0"
      ]
     },
     "execution_count": 75,
     "metadata": {},
     "output_type": "execute_result"
    }
   ],
   "source": [
    "mdp = submission.peekingMDP()\n",
    "vi = submission.ValueIteration()\n",
    "vi.solve(mdp)\n",
    "f = len([a for a in list(vi.pi.values()) if a == 'Peek']) / float(len(list(vi.pi.values())))\n",
    "f"
   ]
  },
  {
   "cell_type": "code",
   "execution_count": 76,
   "metadata": {},
   "outputs": [
    {
     "data": {
      "text/plain": [
       "{(3, None, None): 'Take',\n",
       " (0, None, None): 'Take',\n",
       " (3, None, (0, 1)): 'Quit',\n",
       " (3, 1, (0, 1)): 'Quit',\n",
       " (22, None, None): 'Take',\n",
       " (0, 1, (1, 1)): 'Take',\n",
       " (0, None, (1, 1)): 'Take',\n",
       " (0, 0, (1, 1)): 'Take',\n",
       " (25, None, None): 'Take'}"
      ]
     },
     "execution_count": 76,
     "metadata": {},
     "output_type": "execute_result"
    }
   ],
   "source": [
    "vi.pi"
   ]
  },
  {
   "cell_type": "code",
   "execution_count": 187,
   "metadata": {},
   "outputs": [
    {
     "name": "stdout",
     "output_type": "stream",
     "text": [
      "ValueIteration: 15 iterations\n",
      "['Quit', 'Take', 'Take', 'Take', 'Take', 'Quit', 'Take', 'Take', 'Take', 'Take', 'Take', 'Take', 'Take', 'Take', 'Take', 'Take', 'Quit', 'Take', 'Take', 'Quit', 'Take', 'Take', 'Take', 'Take', 'Take', 'Take', 'Take', 'Take', 'Take', 'Take', 'Take', 'Take', 'Take', 'Take', 'Take', 'Take', 'Take', 'Take', 'Take', 'Take', 'Take', 'Quit', 'Take', 'Take', 'Quit', 'Take', 'Take', 'Take', 'Take', 'Take', 'Take', 'Take', 'Take', 'Take', 'Take', 'Take', 'Take', 'Take', 'Take', 'Take', 'Take', 'Take', 'Take', 'Take', 'Quit', 'Take', 'Take', 'Take', 'Take', 'Take', 'Take', 'Take', 'Take', 'Take', 'Quit', 'Take', 'Take', 'Take', 'Take', 'Take', 'Take', 'Take', 'Take', 'Take', 'Take', 'Take', 'Take', 'Take', 'Take', 'Take', 'Take', 'Take', 'Take', 'Take', 'Take', 'Take', 'Quit', 'Take', 'Take', 'Take', 'Take', 'Take', 'Take', 'Take', 'Take', 'Take', 'Take', 'Take', 'Take', 'Take', 'Take', 'Take', 'Take', 'Take', 'Take', 'Take', 'Take', 'Take', 'Take', 'Take', 'Take', 'Take', 'Take', 'Take', 'Take', 'Take', 'Take', 'Take', 'Take', 'Take', 'Take', 'Take', 'Take', 'Take', 'Take', 'Take', 'Quit', 'Take', 'Take', 'Take', 'Take', 'Take', 'Take', 'Take', 'Take', 'Take', 'Take', 'Take', 'Take', 'Take', 'Take', 'Take', 'Take', 'Take', 'Take', 'Take', 'Take', 'Take', 'Take', 'Take', 'Take', 'Take', 'Take', 'Take', 'Take', 'Take', 'Take', 'Take', 'Take', 'Take', 'Take', 'Take', 'Take', 'Take', 'Quit', 'Take', 'Take', 'Take', 'Take', 'Take', 'Take', 'Take', 'Take', 'Take', 'Take', 'Take', 'Take', 'Take', 'Take', 'Take', 'Take', 'Take', 'Quit', 'Take', 'Take', 'Take', 'Take', 'Take', 'Take', 'Take', 'Take', 'Take', 'Take', 'Take', 'Take', 'Take', 'Take', 'Take', 'Take', 'Take', 'Quit', 'Take', 'Take', 'Take', 'Take', 'Take', 'Take', 'Take', 'Take', 'Take', 'Take', 'Take', 'Take', 'Take', 'Take', 'Take', 'Take', 'Take', 'Take', 'Take', 'Take', 'Take', 'Take', 'Take', 'Take', 'Take', 'Take', 'Take', 'Take', 'Take', 'Take', 'Quit', 'Take', 'Take', 'Take', 'Take', 'Take', 'Take', 'Take', 'Take', 'Take', 'Take', 'Take', 'Take', 'Take', 'Take', 'Take', 'Quit', 'Take', 'Take', 'Take', 'Take', 'Take', 'Take', 'Take', 'Take', 'Take', 'Take', 'Take', 'Take', 'Take', 'Take', 'Take', 'Take', 'Take', 'Take', 'Take', 'Take', 'Take', 'Take', 'Take', 'Take', 'Take', 'Take', 'Take', 'Take', 'Take', 'Take', 'Take', 'Take', 'Take', 'Take', 'Take', 'Take', 'Quit', 'Take', 'Take', 'Take', 'Take', 'Take', 'Take', 'Take', 'Take', 'Take', 'Take', 'Take', 'Take', 'Take', 'Take', 'Take', 'Take', 'Take', 'Take', 'Take', 'Take', 'Take', 'Take', 'Take', 'Take', 'Take', 'Take', 'Take', 'Take', 'Take', 'Take', 'Take', 'Take', 'Take', 'Take', 'Quit', 'Take', 'Take', 'Take', 'Take', 'Take', 'Take', 'Take', 'Take', 'Take', 'Take', 'Take', 'Take', 'Take', 'Take', 'Take', 'Take', 'Take', 'Take', 'Take', 'Take', 'Take', 'Take', 'Take', 'Take', 'Take', 'Take', 'Take', 'Take', 'Take', 'Take', 'Take', 'Take', 'Take', 'Take', 'Take', 'Take', 'Take', 'Take', 'Take', 'Take', 'Take', 'Take', 'Take', 'Take', 'Quit', 'Quit', 'Take', 'Take', 'Take', 'Take', 'Take', 'Take', 'Take', 'Quit', 'Take', 'Take', 'Take', 'Take', 'Take', 'Take', 'Take', 'Take', 'Take', 'Quit', 'Take', 'Take', 'Take', 'Take', 'Take', 'Quit', 'Take', 'Take', 'Take', 'Take', 'Take', 'Take', 'Quit', 'Take', 'Take', 'Take', 'Take', 'Take', 'Take', 'Take', 'Take', 'Quit', 'Take', 'Take', 'Quit', 'Take', 'Quit', 'Take', 'Take', 'Take', 'Take', 'Take', 'Take', 'Take', 'Take', 'Take', 'Take', 'Take', 'Take', 'Take', 'Take', 'Take', 'Take', 'Take', 'Take', 'Quit', 'Take', 'Quit', 'Take', 'Take', 'Take', 'Take', 'Take', 'Take', 'Take', 'Take', 'Take', 'Take', 'Take', 'Take', 'Take', 'Take', 'Quit', 'Take', 'Take', 'Take', 'Take', 'Take', 'Take', 'Take', 'Take', 'Take', 'Quit', 'Take', 'Take', 'Take', 'Take', 'Take', 'Take', 'Take', 'Take', 'Take', 'Take', 'Take', 'Quit', 'Take', 'Take', 'Take', 'Take', 'Take', 'Take', 'Take', 'Take', 'Take', 'Take', 'Take', 'Take', 'Take', 'Take', 'Take', 'Quit', 'Take', 'Take', 'Take', 'Take', 'Take', 'Take', 'Take', 'Take', 'Quit', 'Take', 'Take', 'Take', 'Take', 'Take', 'Take', 'Take', 'Take', 'Take', 'Take', 'Take', 'Quit', 'Take', 'Quit', 'Take', 'Take', 'Take', 'Take', 'Quit', 'Take', 'Take', 'Take', 'Take', 'Take', 'Take', 'Take', 'Take', 'Take', 'Take', 'Take', 'Take', 'Take', 'Take', 'Take', 'Take', 'Take', 'Take', 'Take', 'Take', 'Take', 'Quit', 'Take', 'Quit', 'Take', 'Take', 'Take', 'Take', 'Take', 'Take', 'Take', 'Take', 'Take', 'Take', 'Take', 'Take', 'Take', 'Take', 'Take', 'Take', 'Take', 'Take', 'Take', 'Take', 'Take', 'Take', 'Take', 'Take', 'Take', 'Take', 'Take', 'Take', 'Take', 'Take', 'Take', 'Quit', 'Take', 'Take', 'Take', 'Take', 'Take', 'Take', 'Take', 'Take', 'Quit', 'Take', 'Take', 'Take', 'Take', 'Take', 'Take', 'Take', 'Take', 'Take', 'Take', 'Take', 'Take', 'Quit', 'Take', 'Take', 'Take', 'Take', 'Take', 'Take', 'Take', 'Take', 'Take', 'Take', 'Take', 'Take', 'Take', 'Take', 'Take', 'Take', 'Quit', 'Take', 'Take', 'Quit', 'Take', 'Take', 'Take', 'Take', 'Take', 'Take', 'Take', 'Take', 'Take', 'Take', 'Take', 'Take', 'Take', 'Take', 'Take', 'Take', 'Take', 'Quit', 'Take', 'Take', 'Take', 'Take', 'Take', 'Take', 'Take', 'Take', 'Take', 'Take', 'Take', 'Quit', 'Quit', 'Take', 'Quit', 'Take', 'Quit', 'Take', 'Take', 'Take', 'Take', 'Take', 'Take', 'Take', 'Take', 'Take', 'Take', 'Take', 'Take', 'Take', 'Take', 'Take', 'Take', 'Take', 'Take', 'Take', 'Take', 'Take', 'Take', 'Take', 'Take', 'Take', 'Take', 'Take', 'Take', 'Take', 'Take', 'Take', 'Take', 'Take', 'Take', 'Take', 'Take', 'Take', 'Quit', 'Take', 'Take', 'Take', 'Take', 'Take', 'Take', 'Take', 'Take', 'Take', 'Quit', 'Take', 'Take', 'Take', 'Take', 'Take', 'Take', 'Take', 'Take', 'Take', 'Take', 'Take', 'Take', 'Take', 'Take', 'Quit', 'Take', 'Take', 'Take', 'Take', 'Take', 'Take', 'Take', 'Take', 'Take', 'Take', 'Take', 'Take', 'Take', 'Take', 'Take', 'Take', 'Quit', 'Take', 'Take', 'Take', 'Take', 'Take', 'Take', 'Take', 'Take', 'Take', 'Take', 'Take', 'Take', 'Take', 'Take', 'Take', 'Take', 'Take', 'Take', 'Take', 'Take', 'Take', 'Take', 'Take', 'Take', 'Take', 'Take', 'Take', 'Take', 'Take', 'Take', 'Take', 'Quit', 'Take', 'Take', 'Take', 'Take', 'Take', 'Take', 'Take', 'Take', 'Take', 'Take', 'Take', 'Take', 'Take', 'Take', 'Take', 'Take', 'Take', 'Take', 'Quit', 'Take', 'Take', 'Take', 'Take', 'Take', 'Take', 'Take', 'Take', 'Take', 'Take', 'Quit', 'Take', 'Take', 'Take', 'Take', 'Take', 'Take', 'Take', 'Take', 'Take', 'Take', 'Take', 'Take', 'Take', 'Take', 'Take', 'Take', 'Take', 'Take', 'Take', 'Take', 'Take', 'Take', 'Take', 'Take', 'Take', 'Take', 'Take', 'Take', 'Quit', 'Take', 'Take', 'Take', 'Take', 'Take', 'Take', 'Take', 'Take', 'Take', 'Take', 'Take', 'Take', 'Take', 'Take', 'Take', 'Take', 'Take', 'Take', 'Take', 'Take', 'Take', 'Take', 'Take', 'Take', 'Take', 'Take', 'Take', 'Take', 'Take', 'Take', 'Take', 'Take', 'Take', 'Take', 'Take', 'Take', 'Take', 'Take', 'Take', 'Take', 'Take', 'Take', 'Take', 'Take', 'Take', 'Take', 'Take', 'Take', 'Take', 'Take', 'Take', 'Take', 'Take', 'Take', 'Take', 'Take', 'Take', 'Take', 'Take', 'Take', 'Take', 'Take', 'Take', 'Take', 'Take', 'Take', 'Take', 'Take', 'Take', 'Take', 'Take', 'Take', 'Take', 'Take', 'Take', 'Take', 'Take', 'Take', 'Take', 'Take', 'Take', 'Take', 'Take', 'Take', 'Take', 'Take', 'Take', 'Take', 'Take', 'Take', 'Take', 'Take', 'Take', 'Take', 'Quit', 'Take', 'Quit', 'Take', 'Take', 'Take', 'Take', 'Take', 'Take', 'Take', 'Take', 'Quit', 'Take', 'Take', 'Take', 'Take', 'Take', 'Take', 'Take', 'Take', 'Take', 'Take', 'Take', 'Take', 'Take', 'Take', 'Take', 'Take', 'Take', 'Take', 'Take', 'Take', 'Take', 'Take', 'Take', 'Take', 'Take', 'Take', 'Quit', 'Take', 'Take', 'Take', 'Take', 'Take', 'Take', 'Take', 'Take', 'Take', 'Take', 'Take', 'Take', 'Take', 'Take', 'Take', 'Take', 'Take', 'Take', 'Take', 'Take', 'Take', 'Take', 'Take', 'Quit', 'Take', 'Take', 'Take', 'Take', 'Take', 'Take', 'Take', 'Take', 'Take', 'Take', 'Take', 'Take', 'Take', 'Take', 'Take', 'Take', 'Take', 'Take', 'Take', 'Take', 'Take', 'Take', 'Take', 'Take', 'Take', 'Take', 'Take', 'Take', 'Take', 'Take', 'Quit', 'Take', 'Take', 'Take', 'Take', 'Take', 'Quit', 'Take', 'Take', 'Quit', 'Quit', 'Take', 'Take', 'Take', 'Take', 'Take', 'Take', 'Take', 'Take', 'Quit', 'Take', 'Quit', 'Take', 'Take', 'Take', 'Take', 'Take', 'Take', 'Take', 'Take', 'Take', 'Take', 'Take', 'Take', 'Take', 'Take', 'Take', 'Take', 'Take', 'Take', 'Take', 'Take', 'Take', 'Take', 'Take', 'Take', 'Take', 'Take', 'Take', 'Take', 'Take', 'Take', 'Take', 'Quit', 'Take', 'Take', 'Quit', 'Take', 'Quit', 'Take', 'Take', 'Quit', 'Quit', 'Take', 'Take', 'Take', 'Take', 'Take', 'Take', 'Take', 'Quit', 'Take', 'Take', 'Take', 'Take', 'Take', 'Take', 'Take', 'Take', 'Take', 'Take', 'Take', 'Take', 'Take', 'Take', 'Quit', 'Take', 'Take', 'Take', 'Take', 'Take', 'Quit', 'Take', 'Take', 'Take', 'Take', 'Take', 'Take', 'Take', 'Take', 'Take', 'Take', 'Take', 'Take', 'Take', 'Take', 'Take', 'Take', 'Take', 'Take', 'Take', 'Take', 'Take', 'Take', 'Take', 'Take', 'Take', 'Take', 'Take', 'Take', 'Take', 'Take', 'Take', 'Take', 'Take', 'Take', 'Quit', 'Take', 'Take', 'Quit', 'Take', 'Take', 'Take', 'Take', 'Quit', 'Take', 'Take', 'Take', 'Take', 'Take', 'Take', 'Take', 'Take', 'Take', 'Take', 'Take', 'Take', 'Quit', 'Take', 'Take', 'Take', 'Quit', 'Take', 'Take', 'Quit', 'Take', 'Quit', 'Take', 'Take', 'Take', 'Take', 'Take', 'Take', 'Take', 'Quit', 'Quit', 'Take', 'Quit', 'Take', 'Quit', 'Take', 'Take', 'Take', 'Take', 'Take', 'Take', 'Take', 'Take', 'Take', 'Quit', 'Quit', 'Take', 'Take', 'Take', 'Take', 'Take', 'Take', 'Take', 'Take', 'Take', 'Take', 'Take', 'Take', 'Take', 'Take', 'Quit', 'Quit', 'Take', 'Take', 'Take', 'Quit', 'Take', 'Take', 'Take', 'Take', 'Take', 'Take', 'Take', 'Take', 'Take', 'Take', 'Take', 'Take', 'Take', 'Take', 'Take', 'Take', 'Take', 'Take', 'Take', 'Take', 'Quit', 'Take', 'Take', 'Take', 'Take', 'Take', 'Take', 'Take', 'Take', 'Take', 'Take', 'Take', 'Take', 'Take', 'Take', 'Take', 'Take', 'Take', 'Take', 'Quit', 'Take', 'Take', 'Take', 'Take', 'Take', 'Take', 'Take', 'Take', 'Take', 'Take', 'Take', 'Take', 'Take', 'Take', 'Take', 'Take', 'Take', 'Take', 'Take', 'Take', 'Take', 'Take', 'Take', 'Take', 'Take', 'Take', 'Take', 'Take', 'Take', 'Take', 'Take', 'Take', 'Take', 'Take', 'Take', 'Take', 'Take', 'Take', 'Take', 'Take', 'Quit', 'Take', 'Take', 'Take', 'Take', 'Take', 'Take', 'Take', 'Take', 'Take', 'Take', 'Take', 'Quit', 'Take', 'Take', 'Take', 'Take', 'Take', 'Take', 'Take', 'Take', 'Quit', 'Take', 'Take', 'Take', 'Take', 'Take', 'Take', 'Take', 'Take', 'Take', 'Take', 'Take', 'Take', 'Take', 'Take', 'Take', 'Take', 'Take', 'Take', 'Take', 'Take', 'Take', 'Take', 'Quit', 'Take', 'Take', 'Take', 'Take', 'Take', 'Take', 'Take', 'Take', 'Take', 'Take', 'Take', 'Take', 'Take', 'Take', 'Take', 'Take', 'Take', 'Take', 'Take', 'Take', 'Take', 'Take', 'Take', 'Take', 'Take', 'Take', 'Quit', 'Take', 'Take', 'Take', 'Take', 'Take', 'Take', 'Take', 'Take', 'Take', 'Take', 'Quit', 'Take', 'Take', 'Take', 'Take', 'Take', 'Quit', 'Take', 'Take', 'Take', 'Take', 'Take', 'Quit', 'Take', 'Take', 'Take', 'Take', 'Take', 'Take', 'Take', 'Take', 'Take', 'Take', 'Take', 'Take', 'Take', 'Take', 'Take', 'Quit', 'Take', 'Take', 'Take', 'Take', 'Take', 'Take', 'Take', 'Take', 'Take', 'Take', 'Take', 'Take', 'Take', 'Take', 'Take', 'Take', 'Take', 'Take', 'Take', 'Take', 'Take', 'Take', 'Take', 'Take', 'Take', 'Take', 'Quit', 'Take', 'Take', 'Take', 'Take', 'Take', 'Take', 'Take', 'Take', 'Take', 'Take', 'Take', 'Take', 'Take', 'Quit', 'Take', 'Take', 'Take', 'Take', 'Take', 'Take', 'Take', 'Take', 'Quit', 'Quit', 'Take', 'Take', 'Take', 'Take', 'Take', 'Take', 'Take', 'Take', 'Take', 'Take', 'Take', 'Take', 'Take', 'Take', 'Take', 'Take', 'Take', 'Take', 'Take', 'Take', 'Take', 'Take', 'Take', 'Take', 'Take', 'Take', 'Take', 'Take', 'Quit', 'Take', 'Take', 'Take', 'Take', 'Take', 'Take', 'Take', 'Take', 'Take', 'Take', 'Take', 'Take', 'Take', 'Take', 'Take', 'Take', 'Quit', 'Take', 'Take', 'Take', 'Take', 'Take', 'Quit', 'Take', 'Take', 'Take', 'Take', 'Take', 'Take', 'Take', 'Take', 'Take', 'Take', 'Take', 'Take', 'Take', 'Take', 'Take', 'Take', 'Take', 'Take', 'Take', 'Take', 'Take', 'Take', 'Take', 'Take', 'Take', 'Take', 'Take', 'Take', 'Take', 'Take', 'Quit', 'Take', 'Take', 'Take', 'Quit', 'Take', 'Take', 'Take', 'Take', 'Take', 'Take', 'Take', 'Take', 'Take', 'Take', 'Take', 'Take', 'Take', 'Take', 'Take', 'Take', 'Take', 'Quit', 'Take', 'Take', 'Take', 'Take', 'Take', 'Take', 'Take', 'Take', 'Take', 'Take', 'Take', 'Take', 'Take', 'Take', 'Take', 'Take', 'Take', 'Take', 'Take', 'Take', 'Take', 'Take', 'Take', 'Take', 'Take', 'Take', 'Take', 'Take', 'Take', 'Take', 'Take', 'Take', 'Take', 'Take', 'Take', 'Quit', 'Take', 'Take', 'Take', 'Take', 'Take', 'Take', 'Take', 'Take', 'Take', 'Take', 'Take', 'Take', 'Take', 'Take', 'Take', 'Take', 'Quit', 'Take', 'Take', 'Take', 'Take', 'Take', 'Take', 'Quit', 'Take', 'Take', 'Take', 'Take', 'Take', 'Quit', 'Take', 'Take', 'Take', 'Take', 'Take', 'Take', 'Take', 'Take', 'Take', 'Take', 'Quit', 'Take', 'Take', 'Take', 'Take', 'Take', 'Take', 'Quit', 'Take', 'Quit', 'Take', 'Quit', 'Quit', 'Take', 'Take', 'Take', 'Take', 'Take', 'Take', 'Take', 'Take', 'Take', 'Take', 'Take', 'Take', 'Take', 'Take', 'Take', 'Take', 'Take', 'Take', 'Take', 'Quit', 'Take', 'Take', 'Take', 'Take', 'Take', 'Take', 'Take', 'Take', 'Take', 'Take', 'Take', 'Take', 'Take', 'Take', 'Take', 'Take', 'Take', 'Take', 'Take', 'Take', 'Take', 'Take', 'Quit', 'Take', 'Take', 'Take', 'Take', 'Take', 'Take', 'Take', 'Take', 'Take', 'Take', 'Take', 'Take', 'Quit', 'Take', 'Take', 'Take', 'Take', 'Take', 'Take', 'Take', 'Take', 'Take', 'Take', 'Take', 'Take', 'Quit', 'Take', 'Take', 'Take', 'Take', 'Take', 'Take', 'Take', 'Take', 'Take', 'Take', 'Take', 'Take', 'Take', 'Take', 'Take', 'Take', 'Take', 'Take', 'Take', 'Take', 'Take', 'Take', 'Take', 'Take', 'Take', 'Take', 'Quit', 'Take', 'Take', 'Take', 'Take', 'Take', 'Take', 'Take', 'Take', 'Take', 'Take', 'Take', 'Take', 'Quit', 'Take', 'Take', 'Take', 'Take', 'Take', 'Take', 'Take', 'Take', 'Take', 'Take', 'Take', 'Take', 'Take', 'Take', 'Take', 'Take', 'Take', 'Take', 'Take', 'Take', 'Take', 'Take', 'Take', 'Take', 'Take', 'Quit', 'Take', 'Take', 'Take', 'Take', 'Take', 'Take', 'Take', 'Take', 'Take', 'Take', 'Take', 'Take', 'Take', 'Take', 'Take', 'Take', 'Take', 'Take', 'Take', 'Take', 'Take', 'Take', 'Take', 'Take', 'Take', 'Take', 'Take', 'Take', 'Quit', 'Take', 'Take', 'Take', 'Take', 'Take', 'Take', 'Take', 'Take', 'Take', 'Take', 'Take', 'Take', 'Take', 'Take', 'Take', 'Take', 'Take', 'Take', 'Take', 'Take', 'Take', 'Take', 'Take', 'Take', 'Take', 'Quit', 'Take', 'Take', 'Take', 'Take', 'Take', 'Take', 'Take', 'Take', 'Take', 'Take', 'Take', 'Take', 'Take', 'Take', 'Quit', 'Take', 'Take', 'Take', 'Take', 'Take', 'Take', 'Take', 'Take', 'Take', 'Take', 'Take', 'Take', 'Take', 'Quit', 'Take', 'Take', 'Take', 'Take', 'Take', 'Take', 'Take', 'Take', 'Take', 'Take', 'Take', 'Take', 'Take', 'Take', 'Take', 'Take', 'Quit', 'Take', 'Take', 'Take', 'Take', 'Take', 'Take', 'Take', 'Take', 'Take', 'Take', 'Take', 'Take', 'Take', 'Take', 'Take', 'Take', 'Take', 'Quit', 'Take', 'Take', 'Quit', 'Take', 'Take', 'Take', 'Take', 'Take', 'Take', 'Take', 'Take', 'Take', 'Take', 'Take', 'Take', 'Take', 'Take', 'Take', 'Take', 'Take', 'Take', 'Take', 'Take', 'Take', 'Take', 'Take', 'Quit', 'Take', 'Take', 'Take', 'Take', 'Take', 'Take', 'Take', 'Take', 'Take', 'Take', 'Take', 'Take', 'Take', 'Take', 'Quit', 'Take', 'Take', 'Take', 'Take', 'Take', 'Take', 'Take', 'Take', 'Take', 'Take', 'Take', 'Take', 'Take', 'Take', 'Take', 'Take', 'Take', 'Take', 'Take', 'Take', 'Take', 'Take', 'Take', 'Quit', 'Take', 'Take', 'Take', 'Take', 'Take', 'Take', 'Take', 'Take', 'Take', 'Take', 'Take', 'Take', 'Take', 'Take', 'Take', 'Take', 'Take', 'Take', 'Take', 'Take', 'Take', 'Take', 'Take', 'Take', 'Take', 'Take', 'Take', 'Take', 'Take', 'Take', 'Take', 'Take', 'Take', 'Take', 'Take', 'Take', 'Take', 'Take', 'Quit', 'Take', 'Take', 'Quit', 'Take', 'Take', 'Take', 'Take', 'Quit', 'Take', 'Take', 'Take', 'Take', 'Take', 'Take', 'Take', 'Take', 'Take', 'Take', 'Take', 'Take', 'Take', 'Take', 'Take', 'Take', 'Take', 'Take', 'Take', 'Take', 'Take', 'Take', 'Take', 'Take', 'Take', 'Take', 'Take', 'Take', 'Take', 'Take', 'Take', 'Take', 'Take', 'Take', 'Take', 'Take', 'Take', 'Take', 'Take', 'Take', 'Take', 'Take', 'Take', 'Take', 'Take', 'Take', 'Take', 'Take', 'Take', 'Take', 'Take', 'Take', 'Take', 'Take', 'Take', 'Take', 'Take', 'Take', 'Take', 'Take', 'Take', 'Take', 'Take', 'Take', 'Take', 'Take', 'Take', 'Take', 'Take', 'Take', 'Take', 'Take', 'Take', 'Take', 'Take', 'Take', 'Take', 'Take', 'Take', 'Take', 'Take', 'Take', 'Take', 'Take', 'Take', 'Take', 'Take', 'Take', 'Take', 'Take', 'Take', 'Take', 'Take', 'Take', 'Take', 'Take', 'Take', 'Take', 'Take', 'Take', 'Take', 'Take', 'Take', 'Take', 'Take', 'Take', 'Quit', 'Take', 'Take', 'Take', 'Take', 'Take', 'Take', 'Take', 'Take', 'Take', 'Quit', 'Take', 'Take', 'Take', 'Take', 'Quit', 'Take', 'Take', 'Take', 'Take', 'Take', 'Take', 'Take', 'Quit', 'Take', 'Take', 'Take', 'Take', 'Quit', 'Take', 'Take', 'Take', 'Take', 'Take', 'Take', 'Take', 'Take', 'Take', 'Quit', 'Take', 'Take', 'Take', 'Take', 'Take', 'Take', 'Take', 'Take', 'Take', 'Take', 'Take', 'Take', 'Take', 'Quit', 'Take', 'Take', 'Take', 'Take', 'Take', 'Take', 'Quit', 'Take', 'Take', 'Take', 'Take', 'Take', 'Quit', 'Take', 'Quit', 'Take', 'Take', 'Take', 'Take', 'Take', 'Take', 'Take', 'Take', 'Take', 'Take', 'Take', 'Take', 'Take', 'Take', 'Take', 'Take', 'Take', 'Take', 'Take', 'Take', 'Take', 'Take', 'Quit', 'Take', 'Take', 'Take', 'Take', 'Take', 'Take', 'Take', 'Take', 'Take', 'Take', 'Take', 'Take', 'Take', 'Take', 'Take', 'Take', 'Take', 'Take', 'Take', 'Take', 'Take', 'Take', 'Take', 'Take', 'Take', 'Take', 'Quit', 'Take', 'Quit', 'Take', 'Take', 'Take', 'Take', 'Take', 'Take', 'Take', 'Take', 'Take', 'Take', 'Take', 'Take', 'Take', 'Take', 'Take', 'Take', 'Take', 'Take', 'Take', 'Take', 'Take', 'Take', 'Take', 'Take', 'Take', 'Take', 'Take', 'Quit', 'Take', 'Take', 'Take', 'Take', 'Take', 'Take', 'Take', 'Take', 'Take', 'Take', 'Take', 'Take', 'Take', 'Take', 'Take', 'Take', 'Take', 'Take', 'Take', 'Take', 'Take', 'Take', 'Take', 'Take', 'Take', 'Take', 'Take', 'Take', 'Take', 'Take', 'Take', 'Take', 'Take', 'Quit', 'Take', 'Take', 'Take', 'Quit', 'Take', 'Take', 'Take', 'Take', 'Take', 'Take', 'Take', 'Take', 'Take', 'Take', 'Quit', 'Take', 'Take', 'Take', 'Take', 'Take', 'Take', 'Take', 'Take', 'Take', 'Take', 'Quit', 'Take', 'Take', 'Take', 'Take', 'Take', 'Take', 'Quit', 'Take', 'Take', 'Take', 'Take', 'Take', 'Take', 'Take', 'Take', 'Take', 'Take', 'Take', 'Take', 'Take', 'Take', 'Take', 'Take', 'Take', 'Take', 'Take', 'Take', 'Take', 'Quit', 'Take', 'Take', 'Quit', 'Take', 'Take', 'Take', 'Take', 'Take', 'Take', 'Take', 'Take', 'Take', 'Take', 'Take', 'Take', 'Quit', 'Take', 'Take', 'Take', 'Take', 'Take', 'Take', 'Take', 'Take', 'Take', 'Take', 'Take', 'Take', 'Take', 'Take', 'Take', 'Take', 'Take', 'Take', 'Take', 'Take', 'Take', 'Take', 'Take', 'Take', 'Take', 'Quit', 'Take', 'Take', 'Take', 'Take', 'Take', 'Take', 'Take', 'Take', 'Take', 'Take', 'Take', 'Take', 'Take', 'Take', 'Quit', 'Take', 'Take', 'Take', 'Take', 'Take', 'Take', 'Take', 'Quit', 'Take', 'Take', 'Take', 'Quit', 'Take', 'Take', 'Quit', 'Quit', 'Take', 'Take', 'Take', 'Take', 'Take', 'Take', 'Take', 'Take', 'Take', 'Take', 'Take', 'Take', 'Take', 'Take', 'Take', 'Take', 'Take', 'Take', 'Take', 'Take', 'Take', 'Take', 'Take', 'Quit', 'Take', 'Take', 'Take', 'Quit', 'Take', 'Take', 'Take', 'Quit', 'Take', 'Take', 'Take', 'Take', 'Take', 'Quit', 'Take', 'Take', 'Quit', 'Take', 'Take', 'Take', 'Quit', 'Take', 'Take', 'Take', 'Take', 'Take', 'Take', 'Take', 'Take', 'Take', 'Take', 'Take', 'Take', 'Take', 'Take', 'Quit', 'Take', 'Take', 'Take', 'Quit', 'Take', 'Take', 'Take', 'Take', 'Take', 'Take', 'Take', 'Take', 'Take', 'Take', 'Take', 'Take', 'Take', 'Take', 'Quit', 'Take', 'Take', 'Take', 'Take', 'Take', 'Take', 'Take', 'Take', 'Take', 'Take', 'Take', 'Take', 'Take', 'Take', 'Take', 'Take', 'Take', 'Quit', 'Take', 'Take', 'Take', 'Take', 'Take', 'Take', 'Take', 'Take', 'Take', 'Take', 'Take', 'Take', 'Take', 'Take', 'Take', 'Take', 'Take', 'Take', 'Take', 'Take', 'Take', 'Take', 'Take', 'Take', 'Take', 'Take', 'Take', 'Take', 'Take', 'Take', 'Take', 'Take', 'Take', 'Take', 'Take', 'Take', 'Take', 'Take', 'Take', 'Take', 'Take', 'Quit', 'Take', 'Take', 'Take', 'Take', 'Take', 'Take', 'Take', 'Take', 'Take', 'Take', 'Take', 'Take', 'Take', 'Take', 'Take', 'Take', 'Take', 'Take', 'Take', 'Take', 'Take', 'Take', 'Quit', 'Take', 'Take', 'Take', 'Take', 'Take', 'Take', 'Take', 'Take', 'Take', 'Take', 'Take', 'Take', 'Take', 'Quit', 'Take', 'Take', 'Take', 'Take', 'Take', 'Take', 'Take', 'Take', 'Take', 'Take', 'Take', 'Take', 'Take', 'Take', 'Take', 'Take', 'Take', 'Take', 'Take', 'Take', 'Take', 'Take', 'Take', 'Take', 'Take', 'Quit', 'Take', 'Take', 'Take', 'Take', 'Take', 'Take', 'Take', 'Take', 'Take', 'Take', 'Take', 'Take', 'Quit', 'Take', 'Take', 'Take', 'Take', 'Take', 'Take', 'Take', 'Take', 'Take', 'Take', 'Take', 'Take', 'Take', 'Take', 'Take', 'Take', 'Take', 'Take', 'Take', 'Take', 'Take', 'Take', 'Take', 'Take', 'Take', 'Take', 'Take', 'Take', 'Take', 'Take', 'Take', 'Take', 'Take', 'Take', 'Take', 'Take', 'Take', 'Take', 'Take', 'Take', 'Take', 'Take', 'Take', 'Take', 'Take', 'Take', 'Take', 'Take', 'Take', 'Take', 'Take', 'Quit', 'Take', 'Take', 'Take', 'Take', 'Take', 'Take', 'Take', 'Take', 'Take', 'Take', 'Take', 'Take', 'Take', 'Take', 'Take', 'Take', 'Take', 'Take', 'Take', 'Take', 'Take', 'Take', 'Take', 'Take', 'Take', 'Take', 'Take', 'Take', 'Take', 'Take', 'Take', 'Take', 'Take', 'Take', 'Take', 'Take', 'Take', 'Take', 'Take', 'Take', 'Take', 'Take', 'Quit', 'Take']\n"
     ]
    },
    {
     "data": {
      "text/plain": [
       "0.6746812386156649"
      ]
     },
     "execution_count": 187,
     "metadata": {},
     "output_type": "execute_result"
    }
   ],
   "source": [
    "simulate_QL_over_MDP(largeMDP, identityFeatureExtractor)"
   ]
  },
  {
   "cell_type": "code",
   "execution_count": 33,
   "metadata": {},
   "outputs": [
    {
     "ename": "KeyboardInterrupt",
     "evalue": "",
     "output_type": "error",
     "traceback": [
      "\u001b[0;31m---------------------------------------------------------------------------\u001b[0m",
      "\u001b[0;31mKeyboardInterrupt\u001b[0m                         Traceback (most recent call last)",
      "\u001b[0;32m<ipython-input-33-b50863883c43>\u001b[0m in \u001b[0;36m<module>\u001b[0;34m()\u001b[0m\n\u001b[0;32m----> 1\u001b[0;31m \u001b[0msimulate_QL_over_MDP\u001b[0m\u001b[0;34m(\u001b[0m\u001b[0mlargeMDP\u001b[0m\u001b[0;34m,\u001b[0m \u001b[0mblackjackFeatureExtractor\u001b[0m\u001b[0;34m)\u001b[0m\u001b[0;34m\u001b[0m\u001b[0;34m\u001b[0m\u001b[0m\n\u001b[0m",
      "\u001b[0;32m~/Desktop/CS221/a4_blackjack/submission.py\u001b[0m in \u001b[0;36msimulate_QL_over_MDP\u001b[0;34m(mdp, featureExtractor)\u001b[0m\n\u001b[1;32m    240\u001b[0m     \u001b[0;31m# BEGIN_YOUR_CODE\u001b[0m\u001b[0;34m\u001b[0m\u001b[0;34m\u001b[0m\u001b[0;34m\u001b[0m\u001b[0m\n\u001b[1;32m    241\u001b[0m     \u001b[0mql\u001b[0m \u001b[0;34m=\u001b[0m \u001b[0mQLearningAlgorithm\u001b[0m\u001b[0;34m(\u001b[0m\u001b[0mactions\u001b[0m\u001b[0;34m=\u001b[0m\u001b[0;32mlambda\u001b[0m \u001b[0mstate\u001b[0m\u001b[0;34m:\u001b[0m \u001b[0;34m[\u001b[0m\u001b[0;34m'Take'\u001b[0m\u001b[0;34m,\u001b[0m \u001b[0;34m'Peek'\u001b[0m\u001b[0;34m,\u001b[0m \u001b[0;34m'Quit'\u001b[0m\u001b[0;34m]\u001b[0m\u001b[0;34m,\u001b[0m \u001b[0mdiscount\u001b[0m\u001b[0;34m=\u001b[0m\u001b[0;36m1\u001b[0m\u001b[0;34m,\u001b[0m \u001b[0mfeatureExtractor\u001b[0m\u001b[0;34m=\u001b[0m\u001b[0mfeatureExtractor\u001b[0m\u001b[0;34m)\u001b[0m\u001b[0;34m\u001b[0m\u001b[0;34m\u001b[0m\u001b[0m\n\u001b[0;32m--> 242\u001b[0;31m     \u001b[0mutil\u001b[0m\u001b[0;34m.\u001b[0m\u001b[0msimulate\u001b[0m\u001b[0;34m(\u001b[0m\u001b[0mmdp\u001b[0m\u001b[0;34m,\u001b[0m \u001b[0mql\u001b[0m\u001b[0;34m,\u001b[0m \u001b[0mnumTrials\u001b[0m\u001b[0;34m=\u001b[0m\u001b[0;36m130000\u001b[0m\u001b[0;34m,\u001b[0m \u001b[0mmaxIterations\u001b[0m\u001b[0;34m=\u001b[0m\u001b[0;36m1000\u001b[0m\u001b[0;34m)\u001b[0m\u001b[0;34m\u001b[0m\u001b[0;34m\u001b[0m\u001b[0m\n\u001b[0m\u001b[1;32m    243\u001b[0m     \u001b[0mprint\u001b[0m\u001b[0;34m(\u001b[0m\u001b[0mql\u001b[0m\u001b[0;34m.\u001b[0m\u001b[0mnumIters\u001b[0m\u001b[0;34m)\u001b[0m\u001b[0;34m\u001b[0m\u001b[0;34m\u001b[0m\u001b[0m\n\u001b[1;32m    244\u001b[0m     \u001b[0mprint\u001b[0m\u001b[0;34m(\u001b[0m\u001b[0mql\u001b[0m\u001b[0;34m.\u001b[0m\u001b[0mgetExplorationProb\u001b[0m\u001b[0;34m(\u001b[0m\u001b[0;34m)\u001b[0m\u001b[0;34m)\u001b[0m\u001b[0;34m\u001b[0m\u001b[0;34m\u001b[0m\u001b[0m\n",
      "\u001b[0;32m~/Desktop/CS221/a4_blackjack/util.py\u001b[0m in \u001b[0;36msimulate\u001b[0;34m(mdp, rl, numTrials, maxIterations, verbose, sort)\u001b[0m\n\u001b[1;32m    163\u001b[0m         \u001b[0mtotalReward\u001b[0m \u001b[0;34m=\u001b[0m \u001b[0;36m0\u001b[0m\u001b[0;34m\u001b[0m\u001b[0;34m\u001b[0m\u001b[0m\n\u001b[1;32m    164\u001b[0m         \u001b[0;32mfor\u001b[0m \u001b[0m_\u001b[0m \u001b[0;32min\u001b[0m \u001b[0mrange\u001b[0m\u001b[0;34m(\u001b[0m\u001b[0mmaxIterations\u001b[0m\u001b[0;34m)\u001b[0m\u001b[0;34m:\u001b[0m\u001b[0;34m\u001b[0m\u001b[0;34m\u001b[0m\u001b[0m\n\u001b[0;32m--> 165\u001b[0;31m             \u001b[0maction\u001b[0m \u001b[0;34m=\u001b[0m \u001b[0mrl\u001b[0m\u001b[0;34m.\u001b[0m\u001b[0mgetAction\u001b[0m\u001b[0;34m(\u001b[0m\u001b[0mstate\u001b[0m\u001b[0;34m)\u001b[0m\u001b[0;34m\u001b[0m\u001b[0;34m\u001b[0m\u001b[0m\n\u001b[0m\u001b[1;32m    166\u001b[0m             \u001b[0mtransitions\u001b[0m \u001b[0;34m=\u001b[0m \u001b[0mmdp\u001b[0m\u001b[0;34m.\u001b[0m\u001b[0msuccAndProbReward\u001b[0m\u001b[0;34m(\u001b[0m\u001b[0mstate\u001b[0m\u001b[0;34m,\u001b[0m \u001b[0maction\u001b[0m\u001b[0;34m)\u001b[0m\u001b[0;34m\u001b[0m\u001b[0;34m\u001b[0m\u001b[0m\n\u001b[1;32m    167\u001b[0m             \u001b[0;32mif\u001b[0m \u001b[0msort\u001b[0m\u001b[0;34m:\u001b[0m \u001b[0mtransitions\u001b[0m \u001b[0;34m=\u001b[0m \u001b[0msorted\u001b[0m\u001b[0;34m(\u001b[0m\u001b[0mtransitions\u001b[0m\u001b[0;34m)\u001b[0m\u001b[0;34m\u001b[0m\u001b[0;34m\u001b[0m\u001b[0m\n",
      "\u001b[0;32m~/Desktop/CS221/a4_blackjack/submission.py\u001b[0m in \u001b[0;36mgetAction\u001b[0;34m(self, state)\u001b[0m\n\u001b[1;32m    186\u001b[0m             \u001b[0;32mreturn\u001b[0m \u001b[0mrandom\u001b[0m\u001b[0;34m.\u001b[0m\u001b[0mchoice\u001b[0m\u001b[0;34m(\u001b[0m\u001b[0mself\u001b[0m\u001b[0;34m.\u001b[0m\u001b[0mactions\u001b[0m\u001b[0;34m(\u001b[0m\u001b[0mstate\u001b[0m\u001b[0;34m)\u001b[0m\u001b[0;34m)\u001b[0m\u001b[0;34m\u001b[0m\u001b[0;34m\u001b[0m\u001b[0m\n\u001b[1;32m    187\u001b[0m         \u001b[0;32melse\u001b[0m\u001b[0;34m:\u001b[0m\u001b[0;34m\u001b[0m\u001b[0;34m\u001b[0m\u001b[0m\n\u001b[0;32m--> 188\u001b[0;31m             \u001b[0;32mreturn\u001b[0m \u001b[0mmax\u001b[0m\u001b[0;34m(\u001b[0m\u001b[0;34m(\u001b[0m\u001b[0mself\u001b[0m\u001b[0;34m.\u001b[0m\u001b[0mgetQ\u001b[0m\u001b[0;34m(\u001b[0m\u001b[0mstate\u001b[0m\u001b[0;34m,\u001b[0m \u001b[0maction\u001b[0m\u001b[0;34m)\u001b[0m\u001b[0;34m,\u001b[0m \u001b[0maction\u001b[0m\u001b[0;34m)\u001b[0m \u001b[0;32mfor\u001b[0m \u001b[0maction\u001b[0m \u001b[0;32min\u001b[0m \u001b[0mself\u001b[0m\u001b[0;34m.\u001b[0m\u001b[0mactions\u001b[0m\u001b[0;34m(\u001b[0m\u001b[0mstate\u001b[0m\u001b[0;34m)\u001b[0m\u001b[0;34m)\u001b[0m\u001b[0;34m[\u001b[0m\u001b[0;36m1\u001b[0m\u001b[0;34m]\u001b[0m\u001b[0;34m\u001b[0m\u001b[0;34m\u001b[0m\u001b[0m\n\u001b[0m\u001b[1;32m    189\u001b[0m \u001b[0;34m\u001b[0m\u001b[0m\n\u001b[1;32m    190\u001b[0m     \u001b[0;31m# Call this function to get the step size to update the weights.\u001b[0m\u001b[0;34m\u001b[0m\u001b[0;34m\u001b[0m\u001b[0;34m\u001b[0m\u001b[0m\n",
      "\u001b[0;32m~/Desktop/CS221/a4_blackjack/submission.py\u001b[0m in \u001b[0;36m<genexpr>\u001b[0;34m(.0)\u001b[0m\n\u001b[1;32m    186\u001b[0m             \u001b[0;32mreturn\u001b[0m \u001b[0mrandom\u001b[0m\u001b[0;34m.\u001b[0m\u001b[0mchoice\u001b[0m\u001b[0;34m(\u001b[0m\u001b[0mself\u001b[0m\u001b[0;34m.\u001b[0m\u001b[0mactions\u001b[0m\u001b[0;34m(\u001b[0m\u001b[0mstate\u001b[0m\u001b[0;34m)\u001b[0m\u001b[0;34m)\u001b[0m\u001b[0;34m\u001b[0m\u001b[0;34m\u001b[0m\u001b[0m\n\u001b[1;32m    187\u001b[0m         \u001b[0;32melse\u001b[0m\u001b[0;34m:\u001b[0m\u001b[0;34m\u001b[0m\u001b[0;34m\u001b[0m\u001b[0m\n\u001b[0;32m--> 188\u001b[0;31m             \u001b[0;32mreturn\u001b[0m \u001b[0mmax\u001b[0m\u001b[0;34m(\u001b[0m\u001b[0;34m(\u001b[0m\u001b[0mself\u001b[0m\u001b[0;34m.\u001b[0m\u001b[0mgetQ\u001b[0m\u001b[0;34m(\u001b[0m\u001b[0mstate\u001b[0m\u001b[0;34m,\u001b[0m \u001b[0maction\u001b[0m\u001b[0;34m)\u001b[0m\u001b[0;34m,\u001b[0m \u001b[0maction\u001b[0m\u001b[0;34m)\u001b[0m \u001b[0;32mfor\u001b[0m \u001b[0maction\u001b[0m \u001b[0;32min\u001b[0m \u001b[0mself\u001b[0m\u001b[0;34m.\u001b[0m\u001b[0mactions\u001b[0m\u001b[0;34m(\u001b[0m\u001b[0mstate\u001b[0m\u001b[0;34m)\u001b[0m\u001b[0;34m)\u001b[0m\u001b[0;34m[\u001b[0m\u001b[0;36m1\u001b[0m\u001b[0;34m]\u001b[0m\u001b[0;34m\u001b[0m\u001b[0;34m\u001b[0m\u001b[0m\n\u001b[0m\u001b[1;32m    189\u001b[0m \u001b[0;34m\u001b[0m\u001b[0m\n\u001b[1;32m    190\u001b[0m     \u001b[0;31m# Call this function to get the step size to update the weights.\u001b[0m\u001b[0;34m\u001b[0m\u001b[0;34m\u001b[0m\u001b[0;34m\u001b[0m\u001b[0m\n",
      "\u001b[0;32m~/Desktop/CS221/a4_blackjack/submission.py\u001b[0m in \u001b[0;36mgetQ\u001b[0;34m(self, state, action, is_target_network)\u001b[0m\n\u001b[1;32m    173\u001b[0m                 \u001b[0mscore\u001b[0m \u001b[0;34m+=\u001b[0m \u001b[0mself\u001b[0m\u001b[0;34m.\u001b[0m\u001b[0mtarget_weights\u001b[0m\u001b[0;34m[\u001b[0m\u001b[0mf\u001b[0m\u001b[0;34m]\u001b[0m \u001b[0;34m*\u001b[0m \u001b[0mv\u001b[0m\u001b[0;34m\u001b[0m\u001b[0;34m\u001b[0m\u001b[0m\n\u001b[1;32m    174\u001b[0m         \u001b[0;32melse\u001b[0m\u001b[0;34m:\u001b[0m\u001b[0;34m\u001b[0m\u001b[0;34m\u001b[0m\u001b[0m\n\u001b[0;32m--> 175\u001b[0;31m             \u001b[0;32mfor\u001b[0m \u001b[0mf\u001b[0m\u001b[0;34m,\u001b[0m \u001b[0mv\u001b[0m \u001b[0;32min\u001b[0m \u001b[0mself\u001b[0m\u001b[0;34m.\u001b[0m\u001b[0mfeatureExtractor\u001b[0m\u001b[0;34m(\u001b[0m\u001b[0mstate\u001b[0m\u001b[0;34m,\u001b[0m \u001b[0maction\u001b[0m\u001b[0;34m)\u001b[0m\u001b[0;34m:\u001b[0m\u001b[0;34m\u001b[0m\u001b[0;34m\u001b[0m\u001b[0m\n\u001b[0m\u001b[1;32m    176\u001b[0m                 \u001b[0mscore\u001b[0m \u001b[0;34m+=\u001b[0m \u001b[0mself\u001b[0m\u001b[0;34m.\u001b[0m\u001b[0mweights\u001b[0m\u001b[0;34m[\u001b[0m\u001b[0mf\u001b[0m\u001b[0;34m]\u001b[0m \u001b[0;34m*\u001b[0m \u001b[0mv\u001b[0m\u001b[0;34m\u001b[0m\u001b[0;34m\u001b[0m\u001b[0m\n\u001b[1;32m    177\u001b[0m \u001b[0;34m\u001b[0m\u001b[0m\n",
      "\u001b[0;31mKeyboardInterrupt\u001b[0m: "
     ]
    }
   ],
   "source": [
    "simulate_QL_over_MDP(largeMDP, blackjackFeatureExtractor)"
   ]
  },
  {
   "cell_type": "code",
   "execution_count": 44,
   "metadata": {},
   "outputs": [
    {
     "name": "stdout",
     "output_type": "stream",
     "text": [
      "1489367\n",
      "0.0\n",
      "ValueIteration: 15 iterations\n"
     ]
    },
    {
     "data": {
      "text/plain": [
       "0.8167577413479052"
      ]
     },
     "execution_count": 44,
     "metadata": {},
     "output_type": "execute_result"
    }
   ],
   "source": [
    "simulate_QL_over_MDP(largeMDP, blackjackFeatureExtractor)"
   ]
  }
 ],
 "metadata": {
  "kernelspec": {
   "display_name": "Python 3",
   "language": "python",
   "name": "python3"
  },
  "language_info": {
   "codemirror_mode": {
    "name": "ipython",
    "version": 3
   },
   "file_extension": ".py",
   "mimetype": "text/x-python",
   "name": "python",
   "nbconvert_exporter": "python",
   "pygments_lexer": "ipython3",
   "version": "3.6.8"
  }
 },
 "nbformat": 4,
 "nbformat_minor": 2
}
